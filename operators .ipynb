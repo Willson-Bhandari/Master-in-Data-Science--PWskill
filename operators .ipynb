{
 "cells": [
  {
   "cell_type": "markdown",
   "id": "256bc55e-c879-4e90-953d-d89692ca3f9c",
   "metadata": {},
   "source": [
    "operators \n"
   ]
  },
  {
   "cell_type": "markdown",
   "id": "5754b23f-ac01-434b-86f2-44544139ca97",
   "metadata": {},
   "source": [
    "done many thimes \n"
   ]
  },
  {
   "cell_type": "code",
   "execution_count": null,
   "id": "00819014-da6c-47e2-974f-55706a49c41e",
   "metadata": {},
   "outputs": [],
   "source": []
  }
 ],
 "metadata": {
  "kernelspec": {
   "display_name": "Python 3 (ipykernel)",
   "language": "python",
   "name": "python3"
  },
  "language_info": {
   "codemirror_mode": {
    "name": "ipython",
    "version": 3
   },
   "file_extension": ".py",
   "mimetype": "text/x-python",
   "name": "python",
   "nbconvert_exporter": "python",
   "pygments_lexer": "ipython3",
   "version": "3.10.8"
  }
 },
 "nbformat": 4,
 "nbformat_minor": 5
}
