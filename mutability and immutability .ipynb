{
 "cells": [
  {
   "cell_type": "code",
   "execution_count": 1,
   "id": "35911b6c-f302-47b3-a1b4-cce7ea02d00d",
   "metadata": {},
   "outputs": [],
   "source": [
    "name = \"Willson\""
   ]
  },
  {
   "cell_type": "code",
   "execution_count": 2,
   "id": "c394cd65-734b-43d3-b01d-39ec1f4f8fe5",
   "metadata": {},
   "outputs": [
    {
     "data": {
      "text/plain": [
       "'i'"
      ]
     },
     "execution_count": 2,
     "metadata": {},
     "output_type": "execute_result"
    }
   ],
   "source": [
    "name[1]"
   ]
  },
  {
   "cell_type": "code",
   "execution_count": 3,
   "id": "88d48419-9368-4c60-85b9-dcee25d11f81",
   "metadata": {},
   "outputs": [
    {
     "data": {
      "text/plain": [
       "'n'"
      ]
     },
     "execution_count": 3,
     "metadata": {},
     "output_type": "execute_result"
    }
   ],
   "source": [
    "name [-1]"
   ]
  },
  {
   "cell_type": "code",
   "execution_count": 4,
   "id": "da69387a-68bf-43e7-be9c-3aca18724732",
   "metadata": {},
   "outputs": [],
   "source": [
    "# start from 0 and so on of the word and negative indexing is start from -1 \n"
   ]
  },
  {
   "cell_type": "code",
   "execution_count": 5,
   "id": "b476e11d-49ef-40f6-a514-c0b069dcef1b",
   "metadata": {},
   "outputs": [],
   "source": [
    "l = [2,3,4,5,\"my\" , \"pwskills\", True, 4j]"
   ]
  },
  {
   "cell_type": "code",
   "execution_count": 6,
   "id": "642b6197-afc1-4746-92fa-d6b5e5141a0e",
   "metadata": {},
   "outputs": [
    {
     "data": {
      "text/plain": [
       "list"
      ]
     },
     "execution_count": 6,
     "metadata": {},
     "output_type": "execute_result"
    }
   ],
   "source": [
    "type(l)\n"
   ]
  },
  {
   "cell_type": "code",
   "execution_count": 7,
   "id": "d03758c6-5032-4102-96f0-50715bb93564",
   "metadata": {},
   "outputs": [],
   "source": [
    "#here i want to pick 4 from "
   ]
  },
  {
   "cell_type": "code",
   "execution_count": 8,
   "id": "cff11c45-9770-48dc-b33e-77287ac0b3a7",
   "metadata": {},
   "outputs": [
    {
     "data": {
      "text/plain": [
       "4"
      ]
     },
     "execution_count": 8,
     "metadata": {},
     "output_type": "execute_result"
    }
   ],
   "source": [
    "l[2]"
   ]
  },
  {
   "cell_type": "code",
   "execution_count": 9,
   "id": "d724b12e-eaca-43c3-ad89-e2e567db7e4c",
   "metadata": {},
   "outputs": [],
   "source": [
    "l[2] = 50"
   ]
  },
  {
   "cell_type": "code",
   "execution_count": 10,
   "id": "ace651b1-b9a4-4fbb-9044-e798b5f4f94f",
   "metadata": {},
   "outputs": [
    {
     "data": {
      "text/plain": [
       "[2, 3, 50, 5, 'my', 'pwskills', True, 4j]"
      ]
     },
     "execution_count": 10,
     "metadata": {},
     "output_type": "execute_result"
    }
   ],
   "source": [
    "l\n",
    "#here this is the example of mutability  which means add something to the list . \n"
   ]
  },
  {
   "cell_type": "code",
   "execution_count": 14,
   "id": "47257bb7-c9b6-4257-a7fe-22f9baa249b2",
   "metadata": {},
   "outputs": [
    {
     "ename": "TypeError",
     "evalue": "'str' object does not support item assignment",
     "output_type": "error",
     "traceback": [
      "\u001b[0;31m---------------------------------------------------------------------------\u001b[0m",
      "\u001b[0;31mTypeError\u001b[0m                                 Traceback (most recent call last)",
      "Cell \u001b[0;32mIn[14], line 1\u001b[0m\n\u001b[0;32m----> 1\u001b[0m \u001b[43mname\u001b[49m\u001b[43m[\u001b[49m\u001b[38;5;241;43m2\u001b[39;49m\u001b[43m]\u001b[49m \u001b[38;5;241m=\u001b[39m \u001b[38;5;124m\"\u001b[39m\u001b[38;5;124mb\u001b[39m\u001b[38;5;124m\"\u001b[39m\n",
      "\u001b[0;31mTypeError\u001b[0m: 'str' object does not support item assignment"
     ]
    }
   ],
   "source": [
    "name[2] = \"b\"\n",
    "#here the concept of immutable in string data type . only list are mutable data types"
   ]
  },
  {
   "cell_type": "code",
   "execution_count": 12,
   "id": "ad62f496-2fe3-4c94-8589-0748b69ab13c",
   "metadata": {},
   "outputs": [
    {
     "data": {
      "text/plain": [
       "'Willson'"
      ]
     },
     "execution_count": 12,
     "metadata": {},
     "output_type": "execute_result"
    }
   ],
   "source": [
    "name"
   ]
  },
  {
   "cell_type": "code",
   "execution_count": null,
   "id": "55d342eb-bf42-4997-bc2a-2db129923657",
   "metadata": {},
   "outputs": [],
   "source": []
  }
 ],
 "metadata": {
  "kernelspec": {
   "display_name": "Python 3 (ipykernel)",
   "language": "python",
   "name": "python3"
  },
  "language_info": {
   "codemirror_mode": {
    "name": "ipython",
    "version": 3
   },
   "file_extension": ".py",
   "mimetype": "text/x-python",
   "name": "python",
   "nbconvert_exporter": "python",
   "pygments_lexer": "ipython3",
   "version": "3.10.8"
  }
 },
 "nbformat": 4,
 "nbformat_minor": 5
}
