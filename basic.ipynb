{
 "cells": [
  {
   "cell_type": "markdown",
   "id": "b5885c8f-7120-436a-ab76-6ac99d37e343",
   "metadata": {},
   "source": [
    "This is starting of my coding infact python coding \n"
   ]
  },
  {
   "cell_type": "code",
   "execution_count": 1,
   "id": "2d9f51ab-5749-4a9e-b8a4-ccb1352a2809",
   "metadata": {},
   "outputs": [
    {
     "name": "stdout",
     "output_type": "stream",
     "text": [
      "10\n"
     ]
    }
   ],
   "source": [
    "a = 10\n",
    "print(a)\n"
   ]
  },
  {
   "cell_type": "code",
   "execution_count": 2,
   "id": "73a48661-8445-4567-a146-6be242a7d75e",
   "metadata": {},
   "outputs": [
    {
     "data": {
      "text/plain": [
       "int"
      ]
     },
     "execution_count": 2,
     "metadata": {},
     "output_type": "execute_result"
    }
   ],
   "source": [
    "type (a)"
   ]
  },
  {
   "cell_type": "code",
   "execution_count": 4,
   "id": "6e7cd725-1414-42bf-93d7-5a80f58b4852",
   "metadata": {},
   "outputs": [
    {
     "name": "stdout",
     "output_type": "stream",
     "text": [
      "3.14\n"
     ]
    }
   ],
   "source": [
    "b = 3.14\n",
    "print(b)"
   ]
  },
  {
   "cell_type": "code",
   "execution_count": 5,
   "id": "83cc6a92-ef84-40ff-9b00-1e35253082ce",
   "metadata": {},
   "outputs": [
    {
     "data": {
      "text/plain": [
       "float"
      ]
     },
     "execution_count": 5,
     "metadata": {},
     "output_type": "execute_result"
    }
   ],
   "source": [
    "type(b)"
   ]
  },
  {
   "cell_type": "code",
   "execution_count": 6,
   "id": "5581ec98-6da0-4897-b939-ff99a1b490d7",
   "metadata": {},
   "outputs": [],
   "source": [
    "name = \"willson\""
   ]
  },
  {
   "cell_type": "code",
   "execution_count": 7,
   "id": "831a7664-e8b2-474b-9483-df3bdfed82db",
   "metadata": {},
   "outputs": [
    {
     "name": "stdout",
     "output_type": "stream",
     "text": [
      "willson\n"
     ]
    },
    {
     "data": {
      "text/plain": [
       "str"
      ]
     },
     "execution_count": 7,
     "metadata": {},
     "output_type": "execute_result"
    }
   ],
   "source": [
    "print(name)\n",
    "type(name)"
   ]
  },
  {
   "cell_type": "code",
   "execution_count": 8,
   "id": "e6e6049a-cc55-4252-9c8a-dc2abb8091ed",
   "metadata": {},
   "outputs": [],
   "source": [
    "d = True "
   ]
  },
  {
   "cell_type": "code",
   "execution_count": 9,
   "id": "9a0aeb69-f751-46ea-b792-e2fde2eb2fcc",
   "metadata": {},
   "outputs": [
    {
     "data": {
      "text/plain": [
       "bool"
      ]
     },
     "execution_count": 9,
     "metadata": {},
     "output_type": "execute_result"
    }
   ],
   "source": [
    "type(d)"
   ]
  },
  {
   "cell_type": "code",
   "execution_count": 10,
   "id": "e335b76e-8450-49f3-82bd-b8c14427aa8f",
   "metadata": {},
   "outputs": [
    {
     "data": {
      "text/plain": [
       "1"
      ]
     },
     "execution_count": 10,
     "metadata": {},
     "output_type": "execute_result"
    }
   ],
   "source": [
    "True - False\n"
   ]
  },
  {
   "cell_type": "code",
   "execution_count": 11,
   "id": "ad0ef4d6-9d8c-4853-af94-802f6322d6da",
   "metadata": {},
   "outputs": [
    {
     "data": {
      "text/plain": [
       "0"
      ]
     },
     "execution_count": 11,
     "metadata": {},
     "output_type": "execute_result"
    }
   ],
   "source": [
    "True * False"
   ]
  },
  {
   "cell_type": "code",
   "execution_count": 12,
   "id": "49500cea-17a8-476f-b002-f3dd350f6ebd",
   "metadata": {},
   "outputs": [
    {
     "data": {
      "text/plain": [
       "0.0"
      ]
     },
     "execution_count": 12,
     "metadata": {},
     "output_type": "execute_result"
    }
   ],
   "source": [
    "False/True"
   ]
  },
  {
   "cell_type": "code",
   "execution_count": 13,
   "id": "754ace6f-2552-41e6-8de1-db8b023a70e2",
   "metadata": {},
   "outputs": [],
   "source": [
    "e = 4j"
   ]
  },
  {
   "cell_type": "code",
   "execution_count": 15,
   "id": "33b6cb02-ad08-4c5d-9f59-1ae73e7cf320",
   "metadata": {},
   "outputs": [
    {
     "data": {
      "text/plain": [
       "complex"
      ]
     },
     "execution_count": 15,
     "metadata": {},
     "output_type": "execute_result"
    }
   ],
   "source": [
    "type(e)\n"
   ]
  },
  {
   "cell_type": "code",
   "execution_count": 16,
   "id": "94c37695-af17-446b-b57d-e2ed4126fb42",
   "metadata": {},
   "outputs": [
    {
     "data": {
      "text/plain": [
       "2.0"
      ]
     },
     "execution_count": 16,
     "metadata": {},
     "output_type": "execute_result"
    }
   ],
   "source": [
    "e.real\n"
   ]
  },
  {
   "cell_type": "code",
   "execution_count": 17,
   "id": "362b7267-eacc-4cd0-8c8d-f8b6de43dbf2",
   "metadata": {},
   "outputs": [
    {
     "data": {
      "text/plain": [
       "4.0"
      ]
     },
     "execution_count": 17,
     "metadata": {},
     "output_type": "execute_result"
    }
   ],
   "source": [
    "e.imag"
   ]
  },
  {
   "cell_type": "markdown",
   "id": "c8daf996-0f28-4080-862e-2dd31f8d5d66",
   "metadata": {},
   "source": [
    "For comments "
   ]
  },
  {
   "cell_type": "code",
   "execution_count": 19,
   "id": "4b515de3-d0f0-4d19-acaa-00445112db80",
   "metadata": {},
   "outputs": [
    {
     "data": {
      "text/plain": [
       "' this is multiline\\ncomments in python programming '"
      ]
     },
     "execution_count": 19,
     "metadata": {},
     "output_type": "execute_result"
    }
   ],
   "source": [
    "# This is commetnts \n",
    "\"\"\" this is multiline\n",
    "comments in python programming \"\"\""
   ]
  },
  {
   "cell_type": "markdown",
   "id": "613a173c-1d5b-4104-b1e8-e03804ce1fa7",
   "metadata": {},
   "source": [
    "creating the variable \n"
   ]
  },
  {
   "cell_type": "code",
   "execution_count": 21,
   "id": "5c106c63-45c0-4fb9-92d8-b47fb7c003c9",
   "metadata": {},
   "outputs": [],
   "source": [
    "a1 = 13"
   ]
  },
  {
   "cell_type": "markdown",
   "id": "442500e7-285a-41e8-adeb-0055561ea1e2",
   "metadata": {},
   "source": [
    "type casting "
   ]
  },
  {
   "cell_type": "code",
   "execution_count": 22,
   "id": "953d6710-54f8-406b-bde6-7c33f9227f70",
   "metadata": {},
   "outputs": [],
   "source": [
    "# using str(varialbe)"
   ]
  },
  {
   "cell_type": "code",
   "execution_count": 27,
   "id": "914729db-db82-4483-8e15-3ef321882a20",
   "metadata": {},
   "outputs": [
    {
     "name": "stdout",
     "output_type": "stream",
     "text": [
      "13\n"
     ]
    }
   ],
   "source": [
    "a1 = 13\n",
    "str(a1) \n",
    "print(str(a1))"
   ]
  },
  {
   "cell_type": "code",
   "execution_count": 28,
   "id": "14ae8dbf-c3cc-4702-a58a-ef5efaf5fb95",
   "metadata": {},
   "outputs": [
    {
     "name": "stdin",
     "output_type": "stream",
     "text": [
      " 12354\n"
     ]
    }
   ],
   "source": [
    "a = input()"
   ]
  },
  {
   "cell_type": "code",
   "execution_count": 29,
   "id": "736f5a13-8312-49fc-b8bb-577cac581dd5",
   "metadata": {},
   "outputs": [
    {
     "data": {
      "text/plain": [
       "str"
      ]
     },
     "execution_count": 29,
     "metadata": {},
     "output_type": "execute_result"
    }
   ],
   "source": [
    "type(a)"
   ]
  },
  {
   "cell_type": "code",
   "execution_count": 30,
   "id": "4706fcfd-1cdb-49cd-84da-f6259abb49ee",
   "metadata": {},
   "outputs": [
    {
     "name": "stdin",
     "output_type": "stream",
     "text": [
      " 15\n"
     ]
    }
   ],
   "source": [
    "# input values are always string variable in python \n",
    "b = int(input())\n"
   ]
  },
  {
   "cell_type": "code",
   "execution_count": 31,
   "id": "d1ff0db7-897a-4983-8b6d-406d0077916a",
   "metadata": {},
   "outputs": [
    {
     "data": {
      "text/plain": [
       "int"
      ]
     },
     "execution_count": 31,
     "metadata": {},
     "output_type": "execute_result"
    }
   ],
   "source": [
    "type(b)"
   ]
  },
  {
   "cell_type": "code",
   "execution_count": null,
   "id": "d7d373e6-8d3f-4107-b402-78c6a7bcda2a",
   "metadata": {},
   "outputs": [],
   "source": []
  }
 ],
 "metadata": {
  "kernelspec": {
   "display_name": "Python 3 (ipykernel)",
   "language": "python",
   "name": "python3"
  },
  "language_info": {
   "codemirror_mode": {
    "name": "ipython",
    "version": 3
   },
   "file_extension": ".py",
   "mimetype": "text/x-python",
   "name": "python",
   "nbconvert_exporter": "python",
   "pygments_lexer": "ipython3",
   "version": "3.10.8"
  }
 },
 "nbformat": 4,
 "nbformat_minor": 5
}
